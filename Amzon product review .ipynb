{
 "cells": [
  {
   "cell_type": "code",
   "execution_count": 1,
   "id": "3b14cdbb",
   "metadata": {},
   "outputs": [],
   "source": [
    "import requests\n",
    "import matplotlib.pyplot as plt\n",
    "%matplotlib inline"
   ]
  },
  {
   "cell_type": "code",
   "execution_count": 2,
   "id": "1edb1ab7",
   "metadata": {},
   "outputs": [],
   "source": [
    "from bs4 import BeautifulSoup"
   ]
  },
  {
   "cell_type": "code",
   "execution_count": 3,
   "id": "16a47099",
   "metadata": {},
   "outputs": [],
   "source": [
    "url=input(\"Enter the Product URL: \")"
   ]
  },
  {
   "cell_type": "code",
   "execution_count": 4,
   "id": "cbc18cf7",
   "metadata": {},
   "outputs": [],
   "source": [
    "#r=requests.get('https://www.yelp.com/biz/tesla-san-francisco?osq=Tesla+Dealership')\n",
    "headers = {'User-Agent': 'Mozilla/5.0 (X11; Ubuntu; Linux x86_64; rv:80.0) Gecko/20100101 Firefox/80.0'}\n",
    "r=requests.get(url,headers=headers)\n"
   ]
  },
  {
   "cell_type": "code",
   "execution_count": 5,
   "id": "8410f9be",
   "metadata": {},
   "outputs": [
    {
     "data": {
      "text/plain": [
       "200"
      ]
     },
     "execution_count": 5,
     "metadata": {},
     "output_type": "execute_result"
    }
   ],
   "source": [
    "r.status_code"
   ]
  },
  {
   "cell_type": "code",
   "execution_count": 6,
   "id": "f3a7d50b",
   "metadata": {},
   "outputs": [],
   "source": [
    "soup = BeautifulSoup(r.text,'html.parser')\n"
   ]
  },
  {
   "cell_type": "code",
   "execution_count": 7,
   "id": "1fad2c97",
   "metadata": {},
   "outputs": [
    {
     "data": {
      "text/plain": [
       "[<div class=\"a-section review aok-relative\" data-hook=\"review\" id=\"R2NMSFGTG9O7O8\"><div class=\"a-row a-spacing-none\" id=\"R2NMSFGTG9O7O8-review-card\"><div class=\"a-section celwidget\" id=\"customer_review-R2NMSFGTG9O7O8\"><div class=\"a-row a-spacing-mini\" data-hook=\"genome-widget\"><a class=\"a-profile\" data-a-size=\"small\" href=\"/gp/profile/amzn1.account.AF324DE6FRMO6D5LTOCIPUG4SDGA/ref=cm_cr_dp_d_gw_tr?ie=UTF8\"><div aria-hidden=\"true\" class=\"a-profile-avatar-wrapper\"><div class=\"a-profile-avatar\"><img class=\"a-lazy-loaded\" data-src=\"https://images-eu.ssl-images-amazon.com/images/S/amazon-avatars-global/default._CR0,0,1024,1024_SX48_.png\" src=\"https://images-na.ssl-images-amazon.com/images/G/01/x-locale/common/grey-pixel.gif\"/><noscript><img src=\"https://images-eu.ssl-images-amazon.com/images/S/amazon-avatars-global/default._CR0,0,1024,1024_SX48_.png\"/></noscript></div></div><div class=\"a-profile-content\"><span class=\"a-profile-name\">Placeholder</span></div></a></div><div class=\"a-row\"><a class=\"a-size-base a-link-normal review-title a-color-base review-title-content a-text-bold\" data-hook=\"review-title\" href=\"/gp/customer-reviews/R2NMSFGTG9O7O8/ref=cm_cr_dp_d_rvw_ttl?ie=UTF8&amp;ASIN=B0C719PVLX\"><i class=\"a-icon a-icon-star a-star-2 review-rating\" data-hook=\"review-star-rating\"><span class=\"a-icon-alt\">2.0 out of 5 stars</span></i><span class=\"a-letter-space\"></span>\n",
       " <span>Not totally satisfied</span>\n",
       " </a></div><span class=\"a-size-base a-color-secondary review-date\" data-hook=\"review-date\">Reviewed in India on 26 December 2023</span><div class=\"a-row a-spacing-mini review-data review-format-strip\"><span class=\"a-size-mini a-color-state a-text-bold\" data-hook=\"avp-badge-linkless\">Verified Purchase</span></div><div class=\"a-row a-spacing-small review-data\"><span class=\"a-size-base review-text\" data-hook=\"review-body\"><div class=\"a-expander-collapsed-height a-row a-expander-container a-expander-partial-collapse-container\" data-a-expander-collapsed-height=\"300\" data-a-expander-name=\"review_text_read_more\" style=\"max-height:300px\"><div aria-expanded=\"false\" class=\"a-expander-content reviewText review-text-content a-expander-partial-collapse-content\" data-hook=\"review-collapsed\">\n",
       " <span>It doesn't glow as much in dark like its described. I bought this for my son who admires lights and colors while he is whining down to sleep but he can hardly notice the glow at night in our bedroom.</span>\n",
       " </div><div class=\"a-expander-header a-expander-partial-collapse-header\"><div class=\"a-expander-content-fade\"></div><a aria-expanded=\"false\" aria-label=\"Toggle full review text\" class=\"a-declarative\" data-a-expander-toggle='{\"allowLinkDefault\":true, \"expand_prompt\":\"Read more\", \"collapse_prompt\":\"Read less\"}' data-action=\"a-expander-toggle\" data-csa-c-func-deps=\"aui-da-a-expander-toggle\" data-csa-c-type=\"widget\" data-csa-interaction-events=\"click\" data-hook=\"expand-collapse-read-more-less\" href=\"javascript:void(0)\" role=\"button\"><i class=\"a-icon a-icon-extender-expand\"></i><span class=\"a-expander-prompt\">Read more</span></a></div></div></span></div><div class=\"a-row review-comments cr-vote-action-bar\" data-hook=\"review-comments\"><span class=\"cr-vote\" data-hook=\"review-voting-widget\">\n",
       " <!-- Components for Reactions C -->\n",
       " <div class=\"cr-helpful-button aok-float-left\">\n",
       " <span class=\"a-button a-button-base\"><span class=\"a-button-inner\"><a class=\"a-button-text\" data-hook=\"vote-helpful-button\" href=\"https://www.amazon.in/ap/signin?openid.return_to=https%3A%2F%2Fwww.amazon.in%2Fdp%2FB0C719PVLX%2Fref%3Dcm_cr_dp_d_vote_lft%3Fie%3DUTF8%26csrfT%3DhCGLygNOlSQSPR83JdArDahEyg4Kgt3qKmgFsgWG%252F0tQAAAAAGXcvOgAAAAB%26reviewId%3DR2NMSFGTG9O7O8%23R2NMSFGTG9O7O8&amp;openid.identity=http%3A%2F%2Fspecs.openid.net%2Fauth%2F2.0%2Fidentifier_select&amp;openid.assoc_handle=inflex&amp;openid.mode=checkid_setup&amp;marketPlaceId=A21TJRUUN4KGV&amp;language=en&amp;openid.claimed_id=http%3A%2F%2Fspecs.openid.net%2Fauth%2F2.0%2Fidentifier_select&amp;openid.ns=http%3A%2F%2Fspecs.openid.net%2Fauth%2F2.0\"><div class=\"cr-helpful-text\">\n",
       "               Helpful</div>\n",
       " </a></span></span></div>\n",
       " </span><span class=\"cr-footer-line-height\">\n",
       " <span><i aria-label=\"|\" class=\"a-icon a-icon-text-separator\" role=\"img\"></i><span class=\"a-declarative\" data-action=\"cr-popup\" data-cr-popup='{\"width\":\"580\",\"title\":\"ReportAbuse\",\"url\":\"/hz/reviews-render/report-review?ie=UTF8&amp;ref=cm_cr_dp_d_report&amp;csrfT=hCGLygNOlSQSPR83JdArDahEyg4Kgt3qKmgFsgWG%2F0tQAAAAAGXcvOgAAAAB&amp;reviewId=R2NMSFGTG9O7O8\",\"height\":\"380\"}' data-csa-c-func-deps=\"aui-da-cr-popup\" data-csa-c-type=\"widget\"><a class=\"a-size-base a-link-normal a-color-secondary report-abuse-link a-text-normal\" href=\"/hz/reviews-render/report-review?ie=UTF8&amp;ref=cm_cr_dp_d_report&amp;csrfT=hCGLygNOlSQSPR83JdArDahEyg4Kgt3qKmgFsgWG%2F0tQAAAAAGXcvOgAAAAB&amp;reviewId=R2NMSFGTG9O7O8\">Report</a></span></span></span>\n",
       " </div></div></div></div>,\n",
       " <div class=\"a-section review aok-relative\" data-hook=\"review\" id=\"R2WTOKDGK4LWMF\"><div class=\"a-row a-spacing-none\" id=\"R2WTOKDGK4LWMF-review-card\"><div class=\"a-section celwidget\" id=\"customer_review-R2WTOKDGK4LWMF\"><div class=\"a-row a-spacing-mini\" data-hook=\"genome-widget\"><a class=\"a-profile\" data-a-size=\"small\" href=\"/gp/profile/amzn1.account.AGHP6QNQHQQBULTE3MXMQ4XIFEHA/ref=cm_cr_dp_d_gw_tr?ie=UTF8\"><div aria-hidden=\"true\" class=\"a-profile-avatar-wrapper\"><div class=\"a-profile-avatar\"><img class=\"a-lazy-loaded\" data-src=\"https://images-eu.ssl-images-amazon.com/images/S/amazon-avatars-global/default._CR0,0,1024,1024_SX48_.png\" src=\"https://images-na.ssl-images-amazon.com/images/G/01/x-locale/common/grey-pixel.gif\"/><noscript><img src=\"https://images-eu.ssl-images-amazon.com/images/S/amazon-avatars-global/default._CR0,0,1024,1024_SX48_.png\"/></noscript></div></div><div class=\"a-profile-content\"><span class=\"a-profile-name\">Raul</span></div></a></div><div class=\"a-row\"><a class=\"a-size-base a-link-normal review-title a-color-base review-title-content a-text-bold\" data-hook=\"review-title\" href=\"/gp/customer-reviews/R2WTOKDGK4LWMF/ref=cm_cr_dp_d_rvw_ttl?ie=UTF8&amp;ASIN=B0C719PVLX\"><i class=\"a-icon a-icon-star a-star-2 review-rating\" data-hook=\"review-star-rating\"><span class=\"a-icon-alt\">2.0 out of 5 stars</span></i><span class=\"a-letter-space\"></span>\n",
       " <span>Not good</span>\n",
       " </a></div><span class=\"a-size-base a-color-secondary review-date\" data-hook=\"review-date\">Reviewed in India on 30 January 2024</span><div class=\"a-row a-spacing-mini review-data review-format-strip\"><span class=\"a-size-mini a-color-state a-text-bold\" data-hook=\"avp-badge-linkless\">Verified Purchase</span></div><div class=\"a-row a-spacing-small review-data\"><span class=\"a-size-base review-text\" data-hook=\"review-body\"><div class=\"a-expander-collapsed-height a-row a-expander-container a-expander-partial-collapse-container\" data-a-expander-collapsed-height=\"300\" data-a-expander-name=\"review_text_read_more\" style=\"max-height:300px\"><div aria-expanded=\"false\" class=\"a-expander-content reviewText review-text-content a-expander-partial-collapse-content\" data-hook=\"review-collapsed\">\n",
       " <span>It's not at all a good product</span>\n",
       " </div><div class=\"a-expander-header a-expander-partial-collapse-header\"><div class=\"a-expander-content-fade\"></div><a aria-expanded=\"false\" aria-label=\"Toggle full review text\" class=\"a-declarative\" data-a-expander-toggle='{\"allowLinkDefault\":true, \"expand_prompt\":\"Read more\", \"collapse_prompt\":\"Read less\"}' data-action=\"a-expander-toggle\" data-csa-c-func-deps=\"aui-da-a-expander-toggle\" data-csa-c-type=\"widget\" data-csa-interaction-events=\"click\" data-hook=\"expand-collapse-read-more-less\" href=\"javascript:void(0)\" role=\"button\"><i class=\"a-icon a-icon-extender-expand\"></i><span class=\"a-expander-prompt\">Read more</span></a></div></div></span></div><div class=\"a-row review-comments cr-vote-action-bar\" data-hook=\"review-comments\"><span class=\"cr-vote\" data-hook=\"review-voting-widget\">\n",
       " <!-- Components for Reactions C -->\n",
       " <div class=\"cr-helpful-button aok-float-left\">\n",
       " <span class=\"a-button a-button-base\"><span class=\"a-button-inner\"><a class=\"a-button-text\" data-hook=\"vote-helpful-button\" href=\"https://www.amazon.in/ap/signin?openid.return_to=https%3A%2F%2Fwww.amazon.in%2Fdp%2FB0C719PVLX%2Fref%3Dcm_cr_dp_d_vote_lft%3Fie%3DUTF8%26csrfT%3DhGEF2W3nhyr4jh07PnwSAnCsu1S%252FD082x9%252BiHDagpvrjAAAAAGXcvOgAAAAB%26reviewId%3DR2WTOKDGK4LWMF%23R2WTOKDGK4LWMF&amp;openid.identity=http%3A%2F%2Fspecs.openid.net%2Fauth%2F2.0%2Fidentifier_select&amp;openid.assoc_handle=inflex&amp;openid.mode=checkid_setup&amp;marketPlaceId=A21TJRUUN4KGV&amp;language=en&amp;openid.claimed_id=http%3A%2F%2Fspecs.openid.net%2Fauth%2F2.0%2Fidentifier_select&amp;openid.ns=http%3A%2F%2Fspecs.openid.net%2Fauth%2F2.0\"><div class=\"cr-helpful-text\">\n",
       "               Helpful</div>\n",
       " </a></span></span></div>\n",
       " </span><span class=\"cr-footer-line-height\">\n",
       " <span><i aria-label=\"|\" class=\"a-icon a-icon-text-separator\" role=\"img\"></i><span class=\"a-declarative\" data-action=\"cr-popup\" data-cr-popup='{\"width\":\"580\",\"title\":\"ReportAbuse\",\"url\":\"/hz/reviews-render/report-review?ie=UTF8&amp;ref=cm_cr_dp_d_report&amp;csrfT=hGEF2W3nhyr4jh07PnwSAnCsu1S%2FD082x9%2BiHDagpvrjAAAAAGXcvOgAAAAB&amp;reviewId=R2WTOKDGK4LWMF\",\"height\":\"380\"}' data-csa-c-func-deps=\"aui-da-cr-popup\" data-csa-c-type=\"widget\"><a class=\"a-size-base a-link-normal a-color-secondary report-abuse-link a-text-normal\" href=\"/hz/reviews-render/report-review?ie=UTF8&amp;ref=cm_cr_dp_d_report&amp;csrfT=hGEF2W3nhyr4jh07PnwSAnCsu1S%2FD082x9%2BiHDagpvrjAAAAAGXcvOgAAAAB&amp;reviewId=R2WTOKDGK4LWMF\">Report</a></span></span></span>\n",
       " </div></div></div></div>,\n",
       " <div class=\"a-section review aok-relative\" data-hook=\"review\" id=\"R2RE0B6TU2V7RU\"><div class=\"a-row a-spacing-none\" id=\"R2RE0B6TU2V7RU-review-card\"><div class=\"a-section celwidget\" id=\"customer_review-R2RE0B6TU2V7RU\"><div class=\"a-row a-spacing-mini\" data-hook=\"genome-widget\"><a class=\"a-profile\" data-a-size=\"small\" href=\"/gp/profile/amzn1.account.AFFJBQUDHZERIFAUANNT7NJGQNQQ/ref=cm_cr_dp_d_gw_tr?ie=UTF8\"><div aria-hidden=\"true\" class=\"a-profile-avatar-wrapper\"><div class=\"a-profile-avatar\"><img class=\"a-lazy-loaded\" data-src=\"https://images-eu.ssl-images-amazon.com/images/S/amazon-avatars-global/default._CR0,0,1024,1024_SX48_.png\" src=\"https://images-na.ssl-images-amazon.com/images/G/01/x-locale/common/grey-pixel.gif\"/><noscript><img src=\"https://images-eu.ssl-images-amazon.com/images/S/amazon-avatars-global/default._CR0,0,1024,1024_SX48_.png\"/></noscript></div></div><div class=\"a-profile-content\"><span class=\"a-profile-name\">An honest buyer</span></div></a></div><div class=\"a-row\"><a class=\"a-size-base a-link-normal review-title a-color-base review-title-content a-text-bold\" data-hook=\"review-title\" href=\"/gp/customer-reviews/R2RE0B6TU2V7RU/ref=cm_cr_dp_d_rvw_ttl?ie=UTF8&amp;ASIN=B0C719PVLX\"><i class=\"a-icon a-icon-star a-star-1 review-rating\" data-hook=\"review-star-rating\"><span class=\"a-icon-alt\">1.0 out of 5 stars</span></i><span class=\"a-letter-space\"></span>\n",
       " <span>Glow stars ✨</span>\n",
       " </a></div><span class=\"a-size-base a-color-secondary review-date\" data-hook=\"review-date\">Reviewed in India on 14 December 2023</span><div class=\"a-row a-spacing-mini review-data review-format-strip\"><span class=\"a-size-mini a-color-state a-text-bold\" data-hook=\"avp-badge-linkless\">Verified Purchase</span></div><div class=\"a-row a-spacing-small review-data\"><span class=\"a-size-base review-text\" data-hook=\"review-body\"><div class=\"a-expander-collapsed-height a-row a-expander-container a-expander-partial-collapse-container\" data-a-expander-collapsed-height=\"300\" data-a-expander-name=\"review_text_read_more\" style=\"max-height:300px\"><div aria-expanded=\"false\" class=\"a-expander-content reviewText review-text-content a-expander-partial-collapse-content\" data-hook=\"review-collapsed\">\n",
       " <span>The stars etc do not glow in the dark. Waste of money 😔</span>\n",
       " </div><div class=\"a-expander-header a-expander-partial-collapse-header\"><div class=\"a-expander-content-fade\"></div><a aria-expanded=\"false\" aria-label=\"Toggle full review text\" class=\"a-declarative\" data-a-expander-toggle='{\"allowLinkDefault\":true, \"expand_prompt\":\"Read more\", \"collapse_prompt\":\"Read less\"}' data-action=\"a-expander-toggle\" data-csa-c-func-deps=\"aui-da-a-expander-toggle\" data-csa-c-type=\"widget\" data-csa-interaction-events=\"click\" data-hook=\"expand-collapse-read-more-less\" href=\"javascript:void(0)\" role=\"button\"><i class=\"a-icon a-icon-extender-expand\"></i><span class=\"a-expander-prompt\">Read more</span></a></div></div></span></div><div class=\"a-row review-comments cr-vote-action-bar\" data-hook=\"review-comments\"><span class=\"cr-vote\" data-hook=\"review-voting-widget\">\n",
       " <!-- Components for Reactions C -->\n",
       " <div class=\"cr-helpful-button aok-float-left\">\n",
       " <span class=\"a-button a-button-base\"><span class=\"a-button-inner\"><a class=\"a-button-text\" data-hook=\"vote-helpful-button\" href=\"https://www.amazon.in/ap/signin?openid.return_to=https%3A%2F%2Fwww.amazon.in%2Fdp%2FB0C719PVLX%2Fref%3Dcm_cr_dp_d_vote_lft%3Fie%3DUTF8%26csrfT%3DhCFytiiaxrlCbpH8ooiYb6KDdxYVvxqhy4Orl8Wga7neAAAAAGXcvOgAAAAB%26reviewId%3DR2RE0B6TU2V7RU%23R2RE0B6TU2V7RU&amp;openid.identity=http%3A%2F%2Fspecs.openid.net%2Fauth%2F2.0%2Fidentifier_select&amp;openid.assoc_handle=inflex&amp;openid.mode=checkid_setup&amp;marketPlaceId=A21TJRUUN4KGV&amp;language=en&amp;openid.claimed_id=http%3A%2F%2Fspecs.openid.net%2Fauth%2F2.0%2Fidentifier_select&amp;openid.ns=http%3A%2F%2Fspecs.openid.net%2Fauth%2F2.0\"><div class=\"cr-helpful-text\">\n",
       "               Helpful</div>\n",
       " </a></span></span></div>\n",
       " </span><span class=\"cr-footer-line-height\">\n",
       " <span><i aria-label=\"|\" class=\"a-icon a-icon-text-separator\" role=\"img\"></i><span class=\"a-declarative\" data-action=\"cr-popup\" data-cr-popup='{\"width\":\"580\",\"title\":\"ReportAbuse\",\"url\":\"/hz/reviews-render/report-review?ie=UTF8&amp;ref=cm_cr_dp_d_report&amp;csrfT=hCFytiiaxrlCbpH8ooiYb6KDdxYVvxqhy4Orl8Wga7neAAAAAGXcvOgAAAAB&amp;reviewId=R2RE0B6TU2V7RU\",\"height\":\"380\"}' data-csa-c-func-deps=\"aui-da-cr-popup\" data-csa-c-type=\"widget\"><a class=\"a-size-base a-link-normal a-color-secondary report-abuse-link a-text-normal\" href=\"/hz/reviews-render/report-review?ie=UTF8&amp;ref=cm_cr_dp_d_report&amp;csrfT=hCFytiiaxrlCbpH8ooiYb6KDdxYVvxqhy4Orl8Wga7neAAAAAGXcvOgAAAAB&amp;reviewId=R2RE0B6TU2V7RU\">Report</a></span></span></span>\n",
       " </div></div></div></div>]"
      ]
     },
     "execution_count": 7,
     "metadata": {},
     "output_type": "execute_result"
    }
   ],
   "source": [
    "# divs = soup.findAll(class_=\"css-1qn0b6x\")\n",
    "review_content = soup.findAll(\"div\",{'data-hook':'review'})\n",
    "review_content"
   ]
  },
  {
   "cell_type": "code",
   "execution_count": 8,
   "id": "fcfbdbe3",
   "metadata": {},
   "outputs": [],
   "source": [
    "review = []\n",
    "for i in review_content:\n",
    "    r = [j.get_text() for j in i.find_all(\"span\",{'class':'review-text'})]\n",
    "    review.extend(r)"
   ]
  },
  {
   "cell_type": "code",
   "execution_count": 9,
   "id": "4fdb4943",
   "metadata": {},
   "outputs": [
    {
     "data": {
      "text/plain": [
       "[\"It doesn't glow as much in dark like its described. I bought this for my son who admires lights and colors while he is whining down to sleep but he can hardly notice the glow at night in our bedroom.Read more\",\n",
       " \"It's not at all a good productRead more\",\n",
       " 'The stars etc do not glow in the dark. Waste of money 😔Read more']"
      ]
     },
     "execution_count": 9,
     "metadata": {},
     "output_type": "execute_result"
    }
   ],
   "source": [
    "for i in range(len(review)):\n",
    "    review[i]=(review[i].replace('\\n',\"\"))\n",
    "review"
   ]
  },
  {
   "cell_type": "markdown",
   "id": "62ed3578",
   "metadata": {},
   "source": [
    "# Anlaysing the data"
   ]
  },
  {
   "cell_type": "code",
   "execution_count": 10,
   "id": "f12d7140",
   "metadata": {},
   "outputs": [],
   "source": [
    "import pandas as pd\n",
    "import numpy as np"
   ]
  },
  {
   "cell_type": "code",
   "execution_count": 11,
   "id": "47e36338",
   "metadata": {},
   "outputs": [],
   "source": [
    "df = pd.DataFrame(np.array(review),columns=['review'])"
   ]
  },
  {
   "cell_type": "code",
   "execution_count": 12,
   "id": "554aa7c7",
   "metadata": {},
   "outputs": [
    {
     "data": {
      "text/html": [
       "<div>\n",
       "<style scoped>\n",
       "    .dataframe tbody tr th:only-of-type {\n",
       "        vertical-align: middle;\n",
       "    }\n",
       "\n",
       "    .dataframe tbody tr th {\n",
       "        vertical-align: top;\n",
       "    }\n",
       "\n",
       "    .dataframe thead th {\n",
       "        text-align: right;\n",
       "    }\n",
       "</style>\n",
       "<table border=\"1\" class=\"dataframe\">\n",
       "  <thead>\n",
       "    <tr style=\"text-align: right;\">\n",
       "      <th></th>\n",
       "      <th>review</th>\n",
       "    </tr>\n",
       "  </thead>\n",
       "  <tbody>\n",
       "    <tr>\n",
       "      <th>0</th>\n",
       "      <td>It doesn't glow as much in dark like its descr...</td>\n",
       "    </tr>\n",
       "    <tr>\n",
       "      <th>1</th>\n",
       "      <td>It's not at all a good productRead more</td>\n",
       "    </tr>\n",
       "    <tr>\n",
       "      <th>2</th>\n",
       "      <td>The stars etc do not glow in the dark. Waste o...</td>\n",
       "    </tr>\n",
       "  </tbody>\n",
       "</table>\n",
       "</div>"
      ],
      "text/plain": [
       "                                              review\n",
       "0  It doesn't glow as much in dark like its descr...\n",
       "1            It's not at all a good productRead more\n",
       "2  The stars etc do not glow in the dark. Waste o..."
      ]
     },
     "execution_count": 12,
     "metadata": {},
     "output_type": "execute_result"
    }
   ],
   "source": [
    "df"
   ]
  },
  {
   "cell_type": "code",
   "execution_count": 13,
   "id": "9c82d7b4",
   "metadata": {},
   "outputs": [],
   "source": [
    "df['word_count']=df['review'].apply(lambda x: len(x.split()))"
   ]
  },
  {
   "cell_type": "code",
   "execution_count": 14,
   "id": "4de23fdb",
   "metadata": {},
   "outputs": [],
   "source": [
    "df['char_count'] = df['review'].apply(lambda x:len(x))"
   ]
  },
  {
   "cell_type": "code",
   "execution_count": 15,
   "id": "b1dda770",
   "metadata": {},
   "outputs": [],
   "source": [
    "def average_words(x):\n",
    "    words=x.split()\n",
    "    return sum(len(word) for word in words)/len(words)"
   ]
  },
  {
   "cell_type": "code",
   "execution_count": 16,
   "id": "ed52f1c7",
   "metadata": {},
   "outputs": [],
   "source": [
    "df['average_word_length']=df['review'].apply(lambda x:average_words(x))"
   ]
  },
  {
   "cell_type": "code",
   "execution_count": 17,
   "id": "6ff7cf5c",
   "metadata": {},
   "outputs": [
    {
     "name": "stderr",
     "output_type": "stream",
     "text": [
      "[nltk_data] Downloading package stopwords to\n",
      "[nltk_data]     C:\\Users\\91744\\AppData\\Roaming\\nltk_data...\n",
      "[nltk_data]   Package stopwords is already up-to-date!\n"
     ]
    },
    {
     "data": {
      "text/plain": [
       "True"
      ]
     },
     "execution_count": 17,
     "metadata": {},
     "output_type": "execute_result"
    }
   ],
   "source": [
    "from nltk.corpus import stopwords\n",
    "import nltk\n",
    "nltk.download('stopwords')"
   ]
  },
  {
   "cell_type": "code",
   "execution_count": 18,
   "id": "42a4207a",
   "metadata": {},
   "outputs": [],
   "source": [
    "stop_words = stopwords.words('english')"
   ]
  },
  {
   "cell_type": "code",
   "execution_count": 19,
   "id": "7fd3b2e7",
   "metadata": {},
   "outputs": [],
   "source": [
    "df['stopword_count']=df['review'].apply(lambda x : len([word for word in x.split() if word.lower() in stop_words]))"
   ]
  },
  {
   "cell_type": "code",
   "execution_count": 20,
   "id": "1e568d11",
   "metadata": {},
   "outputs": [],
   "source": [
    "df['stopword_rate']=df['stopword_count']/df['word_count']"
   ]
  },
  {
   "cell_type": "code",
   "execution_count": 21,
   "id": "e6d39cc7",
   "metadata": {},
   "outputs": [
    {
     "data": {
      "text/html": [
       "<div>\n",
       "<style scoped>\n",
       "    .dataframe tbody tr th:only-of-type {\n",
       "        vertical-align: middle;\n",
       "    }\n",
       "\n",
       "    .dataframe tbody tr th {\n",
       "        vertical-align: top;\n",
       "    }\n",
       "\n",
       "    .dataframe thead th {\n",
       "        text-align: right;\n",
       "    }\n",
       "</style>\n",
       "<table border=\"1\" class=\"dataframe\">\n",
       "  <thead>\n",
       "    <tr style=\"text-align: right;\">\n",
       "      <th></th>\n",
       "      <th>review</th>\n",
       "      <th>word_count</th>\n",
       "      <th>char_count</th>\n",
       "      <th>average_word_length</th>\n",
       "      <th>stopword_count</th>\n",
       "      <th>stopword_rate</th>\n",
       "    </tr>\n",
       "  </thead>\n",
       "  <tbody>\n",
       "    <tr>\n",
       "      <th>0</th>\n",
       "      <td>It doesn't glow as much in dark like its descr...</td>\n",
       "      <td>41</td>\n",
       "      <td>208</td>\n",
       "      <td>4.097561</td>\n",
       "      <td>24</td>\n",
       "      <td>0.585366</td>\n",
       "    </tr>\n",
       "    <tr>\n",
       "      <th>1</th>\n",
       "      <td>It's not at all a good productRead more</td>\n",
       "      <td>8</td>\n",
       "      <td>39</td>\n",
       "      <td>4.000000</td>\n",
       "      <td>6</td>\n",
       "      <td>0.750000</td>\n",
       "    </tr>\n",
       "    <tr>\n",
       "      <th>2</th>\n",
       "      <td>The stars etc do not glow in the dark. Waste o...</td>\n",
       "      <td>14</td>\n",
       "      <td>64</td>\n",
       "      <td>3.642857</td>\n",
       "      <td>7</td>\n",
       "      <td>0.500000</td>\n",
       "    </tr>\n",
       "  </tbody>\n",
       "</table>\n",
       "</div>"
      ],
      "text/plain": [
       "                                              review  word_count  char_count  \\\n",
       "0  It doesn't glow as much in dark like its descr...          41         208   \n",
       "1            It's not at all a good productRead more           8          39   \n",
       "2  The stars etc do not glow in the dark. Waste o...          14          64   \n",
       "\n",
       "   average_word_length  stopword_count  stopword_rate  \n",
       "0             4.097561              24       0.585366  \n",
       "1             4.000000               6       0.750000  \n",
       "2             3.642857               7       0.500000  "
      ]
     },
     "execution_count": 21,
     "metadata": {},
     "output_type": "execute_result"
    }
   ],
   "source": [
    "df.head()"
   ]
  },
  {
   "cell_type": "markdown",
   "id": "56d8bb30",
   "metadata": {},
   "source": [
    "# Data Cleaning\n"
   ]
  },
  {
   "cell_type": "code",
   "execution_count": 22,
   "id": "5dd9cd2a",
   "metadata": {},
   "outputs": [],
   "source": [
    "df['lowercase']=df['review'].apply(lambda x:\" \".join(word.lower() for word in x.split()))"
   ]
  },
  {
   "cell_type": "code",
   "execution_count": 23,
   "id": "febec217",
   "metadata": {},
   "outputs": [
    {
     "name": "stderr",
     "output_type": "stream",
     "text": [
      "C:\\Users\\91744\\AppData\\Local\\Temp\\ipykernel_34476\\1254581667.py:1: FutureWarning: The default value of regex will change from True to False in a future version.\n",
      "  df['punctuation']=df['lowercase'].str.replace('[^\\w\\s]','')\n"
     ]
    }
   ],
   "source": [
    "df['punctuation']=df['lowercase'].str.replace('[^\\w\\s]','')"
   ]
  },
  {
   "cell_type": "code",
   "execution_count": 24,
   "id": "f77dd906",
   "metadata": {},
   "outputs": [],
   "source": [
    "df['stopwords']=df['punctuation'].apply(lambda x: \" \".join(word for word in x.split() if word not in stop_words))"
   ]
  },
  {
   "cell_type": "code",
   "execution_count": 25,
   "id": "d2e47a5b",
   "metadata": {},
   "outputs": [
    {
     "data": {
      "text/plain": [
       "glow           3\n",
       "dark           2\n",
       "doesnt         1\n",
       "hardly         1\n",
       "money          1\n",
       "waste          1\n",
       "etc            1\n",
       "stars          1\n",
       "productread    1\n",
       "good           1\n",
       "bedroomread    1\n",
       "night          1\n",
       "notice         1\n",
       "sleep          1\n",
       "whining        1\n",
       "colors         1\n",
       "lights         1\n",
       "admires        1\n",
       "son            1\n",
       "bought         1\n",
       "described      1\n",
       "like           1\n",
       "much           1\n",
       "read           1\n",
       "dtype: int64"
      ]
     },
     "execution_count": 25,
     "metadata": {},
     "output_type": "execute_result"
    }
   ],
   "source": [
    "pd.Series(\" \".join(df['stopwords']).split()).value_counts()[:30]"
   ]
  },
  {
   "cell_type": "code",
   "execution_count": 26,
   "id": "56d09d17",
   "metadata": {},
   "outputs": [],
   "source": [
    "other_stop_words = ['get','told','would','week','us','test','right','left','one','even','go','asked']"
   ]
  },
  {
   "cell_type": "code",
   "execution_count": 27,
   "id": "c7018364",
   "metadata": {},
   "outputs": [],
   "source": [
    "df['cleaned_review'] =df['stopwords'].apply(lambda x: \" \".join(word for word in x.split() if word not in other_stop_words))"
   ]
  },
  {
   "cell_type": "markdown",
   "id": "9b9c5b8b",
   "metadata": {},
   "source": [
    "# Lemmatization\n"
   ]
  },
  {
   "cell_type": "code",
   "execution_count": 28,
   "id": "50d680e2",
   "metadata": {},
   "outputs": [],
   "source": [
    "\n",
    "from textblob import Word"
   ]
  },
  {
   "cell_type": "code",
   "execution_count": 29,
   "id": "2665fe63",
   "metadata": {},
   "outputs": [
    {
     "name": "stderr",
     "output_type": "stream",
     "text": [
      "[nltk_data] Downloading package wordnet to\n",
      "[nltk_data]     C:\\Users\\91744\\AppData\\Roaming\\nltk_data...\n",
      "[nltk_data]   Package wordnet is already up-to-date!\n"
     ]
    },
    {
     "data": {
      "text/plain": [
       "True"
      ]
     },
     "execution_count": 29,
     "metadata": {},
     "output_type": "execute_result"
    }
   ],
   "source": [
    "nltk.download('wordnet')"
   ]
  },
  {
   "cell_type": "code",
   "execution_count": 30,
   "id": "69e56cd4",
   "metadata": {},
   "outputs": [
    {
     "name": "stderr",
     "output_type": "stream",
     "text": [
      "[nltk_data] Downloading package omw-1.4 to\n",
      "[nltk_data]     C:\\Users\\91744\\AppData\\Roaming\\nltk_data...\n",
      "[nltk_data]   Package omw-1.4 is already up-to-date!\n"
     ]
    },
    {
     "data": {
      "text/plain": [
       "True"
      ]
     },
     "execution_count": 30,
     "metadata": {},
     "output_type": "execute_result"
    }
   ],
   "source": [
    " nltk.download('omw-1.4')"
   ]
  },
  {
   "cell_type": "code",
   "execution_count": 31,
   "id": "d076406a",
   "metadata": {},
   "outputs": [],
   "source": [
    "df['lemmatized']=df['cleaned_review'].apply(lambda x:\" \".join(Word(word).lemmatize() for word in x.split()))"
   ]
  },
  {
   "cell_type": "code",
   "execution_count": 32,
   "id": "e3f245fc",
   "metadata": {},
   "outputs": [
    {
     "data": {
      "text/html": [
       "<div>\n",
       "<style scoped>\n",
       "    .dataframe tbody tr th:only-of-type {\n",
       "        vertical-align: middle;\n",
       "    }\n",
       "\n",
       "    .dataframe tbody tr th {\n",
       "        vertical-align: top;\n",
       "    }\n",
       "\n",
       "    .dataframe thead th {\n",
       "        text-align: right;\n",
       "    }\n",
       "</style>\n",
       "<table border=\"1\" class=\"dataframe\">\n",
       "  <thead>\n",
       "    <tr style=\"text-align: right;\">\n",
       "      <th></th>\n",
       "      <th>review</th>\n",
       "      <th>word_count</th>\n",
       "      <th>char_count</th>\n",
       "      <th>average_word_length</th>\n",
       "      <th>stopword_count</th>\n",
       "      <th>stopword_rate</th>\n",
       "      <th>lowercase</th>\n",
       "      <th>punctuation</th>\n",
       "      <th>stopwords</th>\n",
       "      <th>cleaned_review</th>\n",
       "      <th>lemmatized</th>\n",
       "    </tr>\n",
       "  </thead>\n",
       "  <tbody>\n",
       "    <tr>\n",
       "      <th>0</th>\n",
       "      <td>It doesn't glow as much in dark like its descr...</td>\n",
       "      <td>41</td>\n",
       "      <td>208</td>\n",
       "      <td>4.097561</td>\n",
       "      <td>24</td>\n",
       "      <td>0.585366</td>\n",
       "      <td>it doesn't glow as much in dark like its descr...</td>\n",
       "      <td>it doesnt glow as much in dark like its descri...</td>\n",
       "      <td>doesnt glow much dark like described bought so...</td>\n",
       "      <td>doesnt glow much dark like described bought so...</td>\n",
       "      <td>doesnt glow much dark like described bought so...</td>\n",
       "    </tr>\n",
       "    <tr>\n",
       "      <th>1</th>\n",
       "      <td>It's not at all a good productRead more</td>\n",
       "      <td>8</td>\n",
       "      <td>39</td>\n",
       "      <td>4.000000</td>\n",
       "      <td>6</td>\n",
       "      <td>0.750000</td>\n",
       "      <td>it's not at all a good productread more</td>\n",
       "      <td>its not at all a good productread more</td>\n",
       "      <td>good productread</td>\n",
       "      <td>good productread</td>\n",
       "      <td>good productread</td>\n",
       "    </tr>\n",
       "    <tr>\n",
       "      <th>2</th>\n",
       "      <td>The stars etc do not glow in the dark. Waste o...</td>\n",
       "      <td>14</td>\n",
       "      <td>64</td>\n",
       "      <td>3.642857</td>\n",
       "      <td>7</td>\n",
       "      <td>0.500000</td>\n",
       "      <td>the stars etc do not glow in the dark. waste o...</td>\n",
       "      <td>the stars etc do not glow in the dark waste of...</td>\n",
       "      <td>stars etc glow dark waste money read</td>\n",
       "      <td>stars etc glow dark waste money read</td>\n",
       "      <td>star etc glow dark waste money read</td>\n",
       "    </tr>\n",
       "  </tbody>\n",
       "</table>\n",
       "</div>"
      ],
      "text/plain": [
       "                                              review  word_count  char_count  \\\n",
       "0  It doesn't glow as much in dark like its descr...          41         208   \n",
       "1            It's not at all a good productRead more           8          39   \n",
       "2  The stars etc do not glow in the dark. Waste o...          14          64   \n",
       "\n",
       "   average_word_length  stopword_count  stopword_rate  \\\n",
       "0             4.097561              24       0.585366   \n",
       "1             4.000000               6       0.750000   \n",
       "2             3.642857               7       0.500000   \n",
       "\n",
       "                                           lowercase  \\\n",
       "0  it doesn't glow as much in dark like its descr...   \n",
       "1            it's not at all a good productread more   \n",
       "2  the stars etc do not glow in the dark. waste o...   \n",
       "\n",
       "                                         punctuation  \\\n",
       "0  it doesnt glow as much in dark like its descri...   \n",
       "1             its not at all a good productread more   \n",
       "2  the stars etc do not glow in the dark waste of...   \n",
       "\n",
       "                                           stopwords  \\\n",
       "0  doesnt glow much dark like described bought so...   \n",
       "1                                   good productread   \n",
       "2               stars etc glow dark waste money read   \n",
       "\n",
       "                                      cleaned_review  \\\n",
       "0  doesnt glow much dark like described bought so...   \n",
       "1                                   good productread   \n",
       "2               stars etc glow dark waste money read   \n",
       "\n",
       "                                          lemmatized  \n",
       "0  doesnt glow much dark like described bought so...  \n",
       "1                                   good productread  \n",
       "2                star etc glow dark waste money read  "
      ]
     },
     "execution_count": 32,
     "metadata": {},
     "output_type": "execute_result"
    }
   ],
   "source": [
    "df.head()"
   ]
  },
  {
   "cell_type": "markdown",
   "id": "347a6d44",
   "metadata": {},
   "source": [
    "# Sentiment Analysis"
   ]
  },
  {
   "cell_type": "code",
   "execution_count": 33,
   "id": "2711d2f9",
   "metadata": {},
   "outputs": [],
   "source": [
    "from textblob import TextBlob"
   ]
  },
  {
   "cell_type": "code",
   "execution_count": 34,
   "id": "06e9654b",
   "metadata": {},
   "outputs": [],
   "source": [
    "df['polarity']=df['lemmatized'].apply(lambda x: TextBlob(x).sentiment[0])"
   ]
  },
  {
   "cell_type": "code",
   "execution_count": 35,
   "id": "112c3301",
   "metadata": {},
   "outputs": [],
   "source": [
    "df['subjectivity']=df['lemmatized'].apply(lambda x: TextBlob(x).sentiment[1])"
   ]
  },
  {
   "cell_type": "code",
   "execution_count": 36,
   "id": "3dc9f66c",
   "metadata": {},
   "outputs": [
    {
     "data": {
      "text/html": [
       "<div>\n",
       "<style scoped>\n",
       "    .dataframe tbody tr th:only-of-type {\n",
       "        vertical-align: middle;\n",
       "    }\n",
       "\n",
       "    .dataframe tbody tr th {\n",
       "        vertical-align: top;\n",
       "    }\n",
       "\n",
       "    .dataframe thead th {\n",
       "        text-align: right;\n",
       "    }\n",
       "</style>\n",
       "<table border=\"1\" class=\"dataframe\">\n",
       "  <thead>\n",
       "    <tr style=\"text-align: right;\">\n",
       "      <th></th>\n",
       "      <th>word_count</th>\n",
       "      <th>char_count</th>\n",
       "      <th>average_word_length</th>\n",
       "      <th>stopword_count</th>\n",
       "      <th>stopword_rate</th>\n",
       "      <th>polarity</th>\n",
       "      <th>subjectivity</th>\n",
       "    </tr>\n",
       "  </thead>\n",
       "  <tbody>\n",
       "    <tr>\n",
       "      <th>count</th>\n",
       "      <td>3.000000</td>\n",
       "      <td>3.000000</td>\n",
       "      <td>3.000000</td>\n",
       "      <td>3.000000</td>\n",
       "      <td>3.000000</td>\n",
       "      <td>3.000000</td>\n",
       "      <td>3.000000</td>\n",
       "    </tr>\n",
       "    <tr>\n",
       "      <th>mean</th>\n",
       "      <td>21.000000</td>\n",
       "      <td>103.666667</td>\n",
       "      <td>3.913473</td>\n",
       "      <td>12.333333</td>\n",
       "      <td>0.611789</td>\n",
       "      <td>0.170370</td>\n",
       "      <td>0.449074</td>\n",
       "    </tr>\n",
       "    <tr>\n",
       "      <th>std</th>\n",
       "      <td>17.578396</td>\n",
       "      <td>91.215861</td>\n",
       "      <td>0.239383</td>\n",
       "      <td>10.115994</td>\n",
       "      <td>0.127077</td>\n",
       "      <td>0.465693</td>\n",
       "      <td>0.217313</td>\n",
       "    </tr>\n",
       "    <tr>\n",
       "      <th>min</th>\n",
       "      <td>8.000000</td>\n",
       "      <td>39.000000</td>\n",
       "      <td>3.642857</td>\n",
       "      <td>6.000000</td>\n",
       "      <td>0.500000</td>\n",
       "      <td>-0.175000</td>\n",
       "      <td>0.200000</td>\n",
       "    </tr>\n",
       "    <tr>\n",
       "      <th>25%</th>\n",
       "      <td>11.000000</td>\n",
       "      <td>51.500000</td>\n",
       "      <td>3.821429</td>\n",
       "      <td>6.500000</td>\n",
       "      <td>0.542683</td>\n",
       "      <td>-0.094444</td>\n",
       "      <td>0.373611</td>\n",
       "    </tr>\n",
       "    <tr>\n",
       "      <th>50%</th>\n",
       "      <td>14.000000</td>\n",
       "      <td>64.000000</td>\n",
       "      <td>4.000000</td>\n",
       "      <td>7.000000</td>\n",
       "      <td>0.585366</td>\n",
       "      <td>-0.013889</td>\n",
       "      <td>0.547222</td>\n",
       "    </tr>\n",
       "    <tr>\n",
       "      <th>75%</th>\n",
       "      <td>27.500000</td>\n",
       "      <td>136.000000</td>\n",
       "      <td>4.048780</td>\n",
       "      <td>15.500000</td>\n",
       "      <td>0.667683</td>\n",
       "      <td>0.343056</td>\n",
       "      <td>0.573611</td>\n",
       "    </tr>\n",
       "    <tr>\n",
       "      <th>max</th>\n",
       "      <td>41.000000</td>\n",
       "      <td>208.000000</td>\n",
       "      <td>4.097561</td>\n",
       "      <td>24.000000</td>\n",
       "      <td>0.750000</td>\n",
       "      <td>0.700000</td>\n",
       "      <td>0.600000</td>\n",
       "    </tr>\n",
       "  </tbody>\n",
       "</table>\n",
       "</div>"
      ],
      "text/plain": [
       "       word_count  char_count  average_word_length  stopword_count  \\\n",
       "count    3.000000    3.000000             3.000000        3.000000   \n",
       "mean    21.000000  103.666667             3.913473       12.333333   \n",
       "std     17.578396   91.215861             0.239383       10.115994   \n",
       "min      8.000000   39.000000             3.642857        6.000000   \n",
       "25%     11.000000   51.500000             3.821429        6.500000   \n",
       "50%     14.000000   64.000000             4.000000        7.000000   \n",
       "75%     27.500000  136.000000             4.048780       15.500000   \n",
       "max     41.000000  208.000000             4.097561       24.000000   \n",
       "\n",
       "       stopword_rate  polarity  subjectivity  \n",
       "count       3.000000  3.000000      3.000000  \n",
       "mean        0.611789  0.170370      0.449074  \n",
       "std         0.127077  0.465693      0.217313  \n",
       "min         0.500000 -0.175000      0.200000  \n",
       "25%         0.542683 -0.094444      0.373611  \n",
       "50%         0.585366 -0.013889      0.547222  \n",
       "75%         0.667683  0.343056      0.573611  \n",
       "max         0.750000  0.700000      0.600000  "
      ]
     },
     "execution_count": 36,
     "metadata": {},
     "output_type": "execute_result"
    }
   ],
   "source": [
    "df.describe()"
   ]
  },
  {
   "cell_type": "code",
   "execution_count": 37,
   "id": "1234368c",
   "metadata": {},
   "outputs": [],
   "source": [
    "df['review status'] = df['polarity'].apply(lambda x : \"positive\" if x>=0 else \"negative\")"
   ]
  },
  {
   "cell_type": "code",
   "execution_count": 38,
   "id": "5e8efbf5",
   "metadata": {},
   "outputs": [
    {
     "data": {
      "text/html": [
       "<div>\n",
       "<style scoped>\n",
       "    .dataframe tbody tr th:only-of-type {\n",
       "        vertical-align: middle;\n",
       "    }\n",
       "\n",
       "    .dataframe tbody tr th {\n",
       "        vertical-align: top;\n",
       "    }\n",
       "\n",
       "    .dataframe thead th {\n",
       "        text-align: right;\n",
       "    }\n",
       "</style>\n",
       "<table border=\"1\" class=\"dataframe\">\n",
       "  <thead>\n",
       "    <tr style=\"text-align: right;\">\n",
       "      <th></th>\n",
       "      <th>review</th>\n",
       "      <th>word_count</th>\n",
       "      <th>char_count</th>\n",
       "      <th>average_word_length</th>\n",
       "      <th>stopword_count</th>\n",
       "      <th>stopword_rate</th>\n",
       "      <th>lowercase</th>\n",
       "      <th>punctuation</th>\n",
       "      <th>stopwords</th>\n",
       "      <th>cleaned_review</th>\n",
       "      <th>lemmatized</th>\n",
       "      <th>polarity</th>\n",
       "      <th>subjectivity</th>\n",
       "      <th>review status</th>\n",
       "    </tr>\n",
       "  </thead>\n",
       "  <tbody>\n",
       "    <tr>\n",
       "      <th>0</th>\n",
       "      <td>It doesn't glow as much in dark like its descr...</td>\n",
       "      <td>41</td>\n",
       "      <td>208</td>\n",
       "      <td>4.097561</td>\n",
       "      <td>24</td>\n",
       "      <td>0.585366</td>\n",
       "      <td>it doesn't glow as much in dark like its descr...</td>\n",
       "      <td>it doesnt glow as much in dark like its descri...</td>\n",
       "      <td>doesnt glow much dark like described bought so...</td>\n",
       "      <td>doesnt glow much dark like described bought so...</td>\n",
       "      <td>doesnt glow much dark like described bought so...</td>\n",
       "      <td>-0.013889</td>\n",
       "      <td>0.547222</td>\n",
       "      <td>negative</td>\n",
       "    </tr>\n",
       "    <tr>\n",
       "      <th>1</th>\n",
       "      <td>It's not at all a good productRead more</td>\n",
       "      <td>8</td>\n",
       "      <td>39</td>\n",
       "      <td>4.000000</td>\n",
       "      <td>6</td>\n",
       "      <td>0.750000</td>\n",
       "      <td>it's not at all a good productread more</td>\n",
       "      <td>its not at all a good productread more</td>\n",
       "      <td>good productread</td>\n",
       "      <td>good productread</td>\n",
       "      <td>good productread</td>\n",
       "      <td>0.700000</td>\n",
       "      <td>0.600000</td>\n",
       "      <td>positive</td>\n",
       "    </tr>\n",
       "    <tr>\n",
       "      <th>2</th>\n",
       "      <td>The stars etc do not glow in the dark. Waste o...</td>\n",
       "      <td>14</td>\n",
       "      <td>64</td>\n",
       "      <td>3.642857</td>\n",
       "      <td>7</td>\n",
       "      <td>0.500000</td>\n",
       "      <td>the stars etc do not glow in the dark. waste o...</td>\n",
       "      <td>the stars etc do not glow in the dark waste of...</td>\n",
       "      <td>stars etc glow dark waste money read</td>\n",
       "      <td>stars etc glow dark waste money read</td>\n",
       "      <td>star etc glow dark waste money read</td>\n",
       "      <td>-0.175000</td>\n",
       "      <td>0.200000</td>\n",
       "      <td>negative</td>\n",
       "    </tr>\n",
       "  </tbody>\n",
       "</table>\n",
       "</div>"
      ],
      "text/plain": [
       "                                              review  word_count  char_count  \\\n",
       "0  It doesn't glow as much in dark like its descr...          41         208   \n",
       "1            It's not at all a good productRead more           8          39   \n",
       "2  The stars etc do not glow in the dark. Waste o...          14          64   \n",
       "\n",
       "   average_word_length  stopword_count  stopword_rate  \\\n",
       "0             4.097561              24       0.585366   \n",
       "1             4.000000               6       0.750000   \n",
       "2             3.642857               7       0.500000   \n",
       "\n",
       "                                           lowercase  \\\n",
       "0  it doesn't glow as much in dark like its descr...   \n",
       "1            it's not at all a good productread more   \n",
       "2  the stars etc do not glow in the dark. waste o...   \n",
       "\n",
       "                                         punctuation  \\\n",
       "0  it doesnt glow as much in dark like its descri...   \n",
       "1             its not at all a good productread more   \n",
       "2  the stars etc do not glow in the dark waste of...   \n",
       "\n",
       "                                           stopwords  \\\n",
       "0  doesnt glow much dark like described bought so...   \n",
       "1                                   good productread   \n",
       "2               stars etc glow dark waste money read   \n",
       "\n",
       "                                      cleaned_review  \\\n",
       "0  doesnt glow much dark like described bought so...   \n",
       "1                                   good productread   \n",
       "2               stars etc glow dark waste money read   \n",
       "\n",
       "                                          lemmatized  polarity  subjectivity  \\\n",
       "0  doesnt glow much dark like described bought so... -0.013889      0.547222   \n",
       "1                                   good productread  0.700000      0.600000   \n",
       "2                star etc glow dark waste money read -0.175000      0.200000   \n",
       "\n",
       "  review status  \n",
       "0      negative  \n",
       "1      positive  \n",
       "2      negative  "
      ]
     },
     "execution_count": 38,
     "metadata": {},
     "output_type": "execute_result"
    }
   ],
   "source": [
    "df"
   ]
  },
  {
   "cell_type": "code",
   "execution_count": 50,
   "id": "ad5d943f",
   "metadata": {},
   "outputs": [],
   "source": [
    "rev = []\n",
    "for i in df['review status']:\n",
    "    rev.append(i)"
   ]
  },
  {
   "cell_type": "code",
   "execution_count": 52,
   "id": "d47aa93a",
   "metadata": {},
   "outputs": [
    {
     "name": "stdout",
     "output_type": "stream",
     "text": [
      "Negative : Consider before Buying\n"
     ]
    }
   ],
   "source": [
    "p = rev.count('positive')\n",
    "n = rev.count('negative')\n",
    "if p>n:\n",
    "    print(\"Positive : You can a product\")\n",
    "else:\n",
    "    print(\"Negative : Consider before Buying\")"
   ]
  },
  {
   "cell_type": "code",
   "execution_count": null,
   "id": "9ee58304",
   "metadata": {},
   "outputs": [],
   "source": []
  }
 ],
 "metadata": {
  "kernelspec": {
   "display_name": "Python 3 (ipykernel)",
   "language": "python",
   "name": "python3"
  },
  "language_info": {
   "codemirror_mode": {
    "name": "ipython",
    "version": 3
   },
   "file_extension": ".py",
   "mimetype": "text/x-python",
   "name": "python",
   "nbconvert_exporter": "python",
   "pygments_lexer": "ipython3",
   "version": "3.10.9"
  }
 },
 "nbformat": 4,
 "nbformat_minor": 5
}
